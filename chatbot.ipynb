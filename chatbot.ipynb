{
 "cells": [
  {
   "cell_type": "markdown",
   "metadata": {},
   "source": [
    "# Process raw file from facebook"
   ]
  },
  {
   "cell_type": "code",
   "execution_count": 23,
   "metadata": {},
   "outputs": [],
   "source": [
    "# Convert the json to correct format to avoid \\u00e2 blablabla\n",
    "import re\n",
    "import json\n",
    "\n",
    "with open('chloe/message_1.json') as f:\n",
    "    data = json.load(f)\n"
   ]
  },
  {
   "cell_type": "code",
   "execution_count": 24,
   "metadata": {},
   "outputs": [],
   "source": [
    "updated_json = []\n",
    "for subdata in data:\n",
    "    if u'content' in subdata:\n",
    "        s = subdata[u'content']\n",
    "        subdata[u'content'] = re.sub(r'[\\xc2-\\xf4][\\x80-\\xbf]+',lambda m: m.group(0).encode('latin1').decode('utf8'),s)\n",
    "    updated_json.append(subdata)\n",
    "    \n",
    "with open('chloe/corrected_message.json', 'w') as f:\n",
    "    json.dump(data, f)"
   ]
  },
  {
   "cell_type": "markdown",
   "metadata": {},
   "source": [
    "# Load Corrected file"
   ]
  },
  {
   "cell_type": "code",
   "execution_count": 1,
   "metadata": {},
   "outputs": [],
   "source": [
    "import pandas as pd\n",
    "import numpy as np"
   ]
  },
  {
   "cell_type": "code",
   "execution_count": 41,
   "metadata": {},
   "outputs": [],
   "source": [
    "# load message to dataframe\n",
    "chloe = pd.read_json('chloe/corrected_message.json', encoding=\"utf-8\").drop(columns=['type', 'is_unsent', 'photos', 'call_duration', 'reactions', 'videos', 'sticker'])\n",
    "# let's apply some filters\n",
    "chloe['content'] = chloe['content'].str.lower()\n",
    "chloe = chloe.dropna()\n",
    "chloe = chloe.reset_index(drop=True)"
   ]
  },
  {
   "cell_type": "code",
   "execution_count": 42,
   "metadata": {},
   "outputs": [
    {
     "data": {
      "text/html": [
       "<div>\n",
       "<style scoped>\n",
       "    .dataframe tbody tr th:only-of-type {\n",
       "        vertical-align: middle;\n",
       "    }\n",
       "\n",
       "    .dataframe tbody tr th {\n",
       "        vertical-align: top;\n",
       "    }\n",
       "\n",
       "    .dataframe thead th {\n",
       "        text-align: right;\n",
       "    }\n",
       "</style>\n",
       "<table border=\"1\" class=\"dataframe\">\n",
       "  <thead>\n",
       "    <tr style=\"text-align: right;\">\n",
       "      <th></th>\n",
       "      <th>sender_name</th>\n",
       "      <th>timestamp_ms</th>\n",
       "      <th>content</th>\n",
       "    </tr>\n",
       "  </thead>\n",
       "  <tbody>\n",
       "    <tr>\n",
       "      <th>0</th>\n",
       "      <td>Chloe Berthet</td>\n",
       "      <td>2021-10-20 21:52:35.807</td>\n",
       "      <td>bah l’épice est tombée depuis en haut sur l’as...</td>\n",
       "    </tr>\n",
       "    <tr>\n",
       "      <th>1</th>\n",
       "      <td>Sven Borden</td>\n",
       "      <td>2021-10-20 21:51:37.781</td>\n",
       "      <td>how</td>\n",
       "    </tr>\n",
       "    <tr>\n",
       "      <th>2</th>\n",
       "      <td>Sven Borden</td>\n",
       "      <td>2021-10-20 21:51:35.500</td>\n",
       "      <td>oh non</td>\n",
       "    </tr>\n",
       "    <tr>\n",
       "      <th>3</th>\n",
       "      <td>Chloe Berthet</td>\n",
       "      <td>2021-10-20 21:38:46.503</td>\n",
       "      <td>oupsi</td>\n",
       "    </tr>\n",
       "    <tr>\n",
       "      <th>4</th>\n",
       "      <td>Chloe Berthet</td>\n",
       "      <td>2021-10-20 21:38:44.801</td>\n",
       "      <td>hum</td>\n",
       "    </tr>\n",
       "    <tr>\n",
       "      <th>...</th>\n",
       "      <td>...</td>\n",
       "      <td>...</td>\n",
       "      <td>...</td>\n",
       "    </tr>\n",
       "    <tr>\n",
       "      <th>3506</th>\n",
       "      <td>Chloe Berthet</td>\n",
       "      <td>2021-09-21 08:02:31.056</td>\n",
       "      <td>vous voulez aller ou ?</td>\n",
       "    </tr>\n",
       "    <tr>\n",
       "      <th>3507</th>\n",
       "      <td>Chloe Berthet</td>\n",
       "      <td>2021-09-21 08:02:25.475</td>\n",
       "      <td>mais faut que je rentre à aarau après donc je ...</td>\n",
       "    </tr>\n",
       "    <tr>\n",
       "      <th>3508</th>\n",
       "      <td>Chloe Berthet</td>\n",
       "      <td>2021-09-21 08:01:48.815</td>\n",
       "      <td>oh c’est tentant</td>\n",
       "    </tr>\n",
       "    <tr>\n",
       "      <th>3509</th>\n",
       "      <td>Sven Borden</td>\n",
       "      <td>2021-09-21 08:01:44.261</td>\n",
       "      <td>enfin pas tard</td>\n",
       "    </tr>\n",
       "    <tr>\n",
       "      <th>3510</th>\n",
       "      <td>Sven Borden</td>\n",
       "      <td>2021-09-21 08:01:39.117</td>\n",
       "      <td>tu veux bowling ce soir ?</td>\n",
       "    </tr>\n",
       "  </tbody>\n",
       "</table>\n",
       "<p>3511 rows × 3 columns</p>\n",
       "</div>"
      ],
      "text/plain": [
       "        sender_name            timestamp_ms  \\\n",
       "0     Chloe Berthet 2021-10-20 21:52:35.807   \n",
       "1       Sven Borden 2021-10-20 21:51:37.781   \n",
       "2       Sven Borden 2021-10-20 21:51:35.500   \n",
       "3     Chloe Berthet 2021-10-20 21:38:46.503   \n",
       "4     Chloe Berthet 2021-10-20 21:38:44.801   \n",
       "...             ...                     ...   \n",
       "3506  Chloe Berthet 2021-09-21 08:02:31.056   \n",
       "3507  Chloe Berthet 2021-09-21 08:02:25.475   \n",
       "3508  Chloe Berthet 2021-09-21 08:01:48.815   \n",
       "3509    Sven Borden 2021-09-21 08:01:44.261   \n",
       "3510    Sven Borden 2021-09-21 08:01:39.117   \n",
       "\n",
       "                                                content  \n",
       "0     bah l’épice est tombée depuis en haut sur l’as...  \n",
       "1                                                   how  \n",
       "2                                                oh non  \n",
       "3                                                 oupsi  \n",
       "4                                                   hum  \n",
       "...                                                 ...  \n",
       "3506                             vous voulez aller ou ?  \n",
       "3507  mais faut que je rentre à aarau après donc je ...  \n",
       "3508                                   oh c’est tentant  \n",
       "3509                                     enfin pas tard  \n",
       "3510                          tu veux bowling ce soir ?  \n",
       "\n",
       "[3511 rows x 3 columns]"
      ]
     },
     "execution_count": 42,
     "metadata": {},
     "output_type": "execute_result"
    }
   ],
   "source": [
    "chloe"
   ]
  },
  {
   "cell_type": "markdown",
   "metadata": {},
   "source": [
    "# Compute the nearest string from messages and find the best answer"
   ]
  },
  {
   "cell_type": "code",
   "execution_count": 43,
   "metadata": {},
   "outputs": [],
   "source": [
    "from fuzzywuzzy import fuzz, process\n",
    "import Levenshtein as lev\n"
   ]
  },
  {
   "cell_type": "code",
   "execution_count": 55,
   "metadata": {},
   "outputs": [],
   "source": [
    "def lev_distance(w1, list_w2):\n",
    "    distance = []\n",
    "    for w2 in list_w2:\n",
    "        distance.append(lev.distance(w1, w2))\n",
    "    return distance\n",
    "\n",
    "def lev_ratio(w1, list_w2):\n",
    "    ratio = []\n",
    "    for w2 in list_w2:\n",
    "        ratio.append(fuzz.ratio(w1, w2))\n",
    "    return ratio\n",
    "\n",
    "def lev_partial_ratio(w1, list_w2):\n",
    "    ratio = []\n",
    "    for w2 in list_w2:\n",
    "        ratio.append(fuzz.partial_ratio(w1, w2))\n",
    "    return ratio\n",
    "\n",
    "def lev_token_sort_ratio(w1, list_w2):\n",
    "    ratio = []\n",
    "    for w2 in list_w2:\n",
    "        ratio.append(fuzz.token_sort_ratio(w1, w2))\n",
    "    return ratio\n",
    "\n",
    "def lev_token_set_ratio(w1, list_w2):\n",
    "    ratio = []\n",
    "    for w2 in list_w2:\n",
    "        ratio.append(fuzz.token_set_ratio(w1, w2))\n",
    "    return ratio\n",
    "\n",
    "def lev_process(w1, list_w2):\n",
    "    return process.extractOne(w1, list_w2)"
   ]
  },
  {
   "cell_type": "code",
   "execution_count": 77,
   "metadata": {},
   "outputs": [],
   "source": [
    "def get_ind_answer(ind):\n",
    "    if ind <= 0:\n",
    "        return 0\n",
    "    while ind > 0:\n",
    "        ind -= 1\n",
    "        if chloe.iloc[ind]['sender_name'] == 'Sven Borden':\n",
    "            return ind"
   ]
  },
  {
   "cell_type": "code",
   "execution_count": 79,
   "metadata": {},
   "outputs": [
    {
     "name": "stdout",
     "output_type": "stream",
     "text": [
      "process returned ('bah l’épice est tombée depuis en haut sur l’assiette 😂', 86)\n",
      "INDEXES [0] CONTENT      sender_name            timestamp_ms  \\\n",
      "0  Chloe Berthet 2021-10-20 21:52:35.807   \n",
      "\n",
      "                                             content  \n",
      "0  bah l’épice est tombée depuis en haut sur l’as...  \n",
      "['bah l’épice est tombée depuis en haut sur l’assiette 😂']\n"
     ]
    }
   ],
   "source": [
    "word = \"Est-ce que tu as vu ce tiktok\"\n",
    "word = word.lower()\n",
    "\n",
    "# Select only chloe text\n",
    "chloe_only = chloe[chloe['sender_name'] == 'Chloe Berthet']['content']\n",
    "ratios = lev_process(word, chloe_only.to_list())\n",
    "print(f'process returned {ratios}')\n",
    "ind = chloe.index[chloe['content'] == ratios[0]].to_list()\n",
    "print(f'INDEXES {ind} CONTENT {chloe.iloc[ind]}')\n",
    "\n",
    "answers = []\n",
    "for i in ind:\n",
    "    answers.append(chloe.iloc[get_ind_answer(i)]['content'])\n",
    "# Sort the 5 best scores and get indexes\n",
    "print(answers)\n"
   ]
  },
  {
   "cell_type": "code",
   "execution_count": 78,
   "metadata": {},
   "outputs": [
    {
     "data": {
      "text/plain": [
       "86"
      ]
     },
     "execution_count": 78,
     "metadata": {},
     "output_type": "execute_result"
    }
   ],
   "source": [
    "ratios[1]"
   ]
  },
  {
   "cell_type": "code",
   "execution_count": null,
   "metadata": {},
   "outputs": [],
   "source": []
  }
 ],
 "metadata": {
  "interpreter": {
   "hash": "f6ab4e3b3249d6bfd193a474b251fac8c60bdfec5028dc878bebc66e7314d8f7"
  },
  "kernelspec": {
   "display_name": "Python 3.9.7 64-bit",
   "name": "python3"
  },
  "language_info": {
   "codemirror_mode": {
    "name": "ipython",
    "version": 3
   },
   "file_extension": ".py",
   "mimetype": "text/x-python",
   "name": "python",
   "nbconvert_exporter": "python",
   "pygments_lexer": "ipython3",
   "version": "3.9.7"
  }
 },
 "nbformat": 4,
 "nbformat_minor": 5
}
